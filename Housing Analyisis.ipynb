{
 "cells": [
  {
   "cell_type": "code",
   "execution_count": 2,
   "id": "fee0ac84",
   "metadata": {
    "jupyter": {
     "source_hidden": true
    }
   },
   "outputs": [],
   "source": [
    "!pip install -r requirements.txt -q"
   ]
  },
  {
   "cell_type": "code",
   "execution_count": 3,
   "id": "fe983a33",
   "metadata": {
    "jupyter": {
     "source_hidden": true
    }
   },
   "outputs": [],
   "source": [
    "!pip install ipympl -q"
   ]
  },
  {
   "cell_type": "code",
   "execution_count": 4,
   "id": "50365fb7",
   "metadata": {
    "jupyter": {
     "source_hidden": true
    }
   },
   "outputs": [],
   "source": [
    "import pandas as pd\n",
    "import numpy as np\n",
    "\n",
    "\n",
    "import matplotlib.pyplot as plt\n",
    "import matplotlib\n",
    "from matplotlib.widgets import Slider, Button, RadioButtons, CheckButtons"
   ]
  },
  {
   "cell_type": "code",
   "execution_count": 5,
   "id": "61085b64",
   "metadata": {
    "jupyter": {
     "source_hidden": true
    }
   },
   "outputs": [],
   "source": [
    "data_df=pd.read_csv(\"dataConverted.csv\")"
   ]
  },
  {
   "cell_type": "code",
   "execution_count": 6,
   "id": "dddb614f",
   "metadata": {
    "jupyter": {
     "source_hidden": true
    }
   },
   "outputs": [],
   "source": [
    "data_df[\"Month of Period End\"]=pd.to_datetime(\n",
    "    data_df[\"Month of Period End\"],\n",
    "    format=\"%B %Y\")"
   ]
  },
  {
   "cell_type": "code",
   "execution_count": 7,
   "id": "8b47dcf5",
   "metadata": {
    "jupyter": {
     "source_hidden": true
    }
   },
   "outputs": [],
   "source": [
    "for i in range(data_df.shape[0]):\n",
    "    if type(data_df.iloc[i,0])==str:\n",
    "        current_region=data_df.iloc[i,0]\n",
    "        if current_region[0]==\" \":\n",
    "            current_region=current_region[1:]\n",
    "\n",
    "    data_df.iloc[i,0]=current_region"
   ]
  },
  {
   "cell_type": "code",
   "execution_count": 8,
   "id": "80273fc4",
   "metadata": {
    "jupyter": {
     "source_hidden": true
    }
   },
   "outputs": [],
   "source": [
    "def convert_str_to_float(s):\n",
    "    \n",
    "    if type(s)==str:\n",
    "        if s[0]==\"$\":\n",
    "            s=s[1:]\n",
    "        if s[-1]==\"%\":\n",
    "            scale=1/100\n",
    "            s=s[:-1]\n",
    "        elif s[-1]==\"K\":\n",
    "            scale=10**3\n",
    "\n",
    "            s=s[:-1]\n",
    "        else:\n",
    "            scale=1\n",
    "        return scale*float(s.replace(',' , ''))\n",
    "    else:\n",
    "        return s\n",
    "\n",
    "    "
   ]
  },
  {
   "cell_type": "code",
   "execution_count": 9,
   "id": "6987b16e",
   "metadata": {
    "jupyter": {
     "source_hidden": true
    }
   },
   "outputs": [],
   "source": [
    "for i in range(2,data_df.shape[1]):\n",
    "    data_df.iloc[:,i]=data_df.iloc[:,i].apply(convert_str_to_float)"
   ]
  },
  {
   "cell_type": "code",
   "execution_count": 10,
   "id": "32251835",
   "metadata": {
    "jupyter": {
     "source_hidden": true
    }
   },
   "outputs": [],
   "source": [
    "def draw_a_data(ax,X,Y,label,color,ylabel,add_text=\"\",\n",
    "                   scale=1,\n",
    "                   percent=False):\n",
    "    if percent:\n",
    "        Y=(Y/Y.iloc[0]-1)*100\n",
    "    Y=Y*scale\n",
    "    ax.plot(X,Y,label=label,color=color)\n",
    "    ax.set_ylabel(ylabel+f\" ({add_text})\")"
   ]
  },
  {
   "cell_type": "code",
   "execution_count": 11,
   "id": "5aa4fca0",
   "metadata": {
    "jupyter": {
     "source_hidden": true
    }
   },
   "outputs": [],
   "source": [
    "def draw(ax,fig,data_df,data_to_plot,data_info,regions,region_colors):\n",
    "        ax.cla()\n",
    "        for region in regions:\n",
    "            data=data_df[data_df.Region==region]\n",
    "            X=data[\"Month of Period End\"]\n",
    "            Y=data[data_to_plot]\n",
    "            draw_a_data(ax,X,Y,region,region_colors[region],data_to_plot,\n",
    "                        **data_info)\n",
    "        ax.legend()\n",
    "        fig.canvas.draw_idle()"
   ]
  },
  {
   "cell_type": "code",
   "execution_count": 12,
   "id": "244c0dd9",
   "metadata": {
    "jupyter": {
     "source_hidden": true
    }
   },
   "outputs": [],
   "source": [
    "regions=sorted(list(np.unique(data_df.Region)))\n",
    "\n",
    "cmap = matplotlib.cm.get_cmap('brg')\n",
    "\n",
    "region_colors={}\n",
    "for i,region in enumerate(regions):\n",
    "    region_colors[region]=cmap(i/len(regions))\n",
    "    \n",
    "data_types=[]\n",
    "for data_type in data_df.columns[2:]:\n",
    "    if \"YoY\" not in data_type and \"MoM\" not in data_type:\n",
    "        data_types.append(data_type)\n",
    "\n",
    "data_info={'Median Sale Price':{\"add_text\":\"%\",\n",
    "                                \"percent\":True},\n",
    " 'Homes Sold':{\"add_text\":\"%\",\n",
    "                \"percent\":True},\n",
    " 'New Listings':{\"add_text\":\"%\",\n",
    "                \"percent\":True},\n",
    " 'Inventory':{\"add_text\":\"%\",\n",
    "                \"percent\":True},\n",
    " 'Days on Market':{},\n",
    " 'Average Sale To List':{\"add_text\":\"%\",\n",
    "                                \"scale\":10**3}}\n",
    "\n",
    "data_types_using=list(data_info.keys())[0]"
   ]
  },
  {
   "cell_type": "code",
   "execution_count": 18,
   "id": "cbf50c58",
   "metadata": {
    "tags": []
   },
   "outputs": [
    {
     "data": {
      "application/vnd.jupyter.widget-view+json": {
       "model_id": "9df8ba4ef0c341d98e185eb4e1679ab8",
       "version_major": 2,
       "version_minor": 0
      },
      "text/plain": [
       "Canvas(toolbar=Toolbar(toolitems=[('Home', 'Reset original view', 'home', 'home'), ('Back', 'Back to previous …"
      ]
     },
     "metadata": {},
     "output_type": "display_data"
    },
    {
     "data": {
      "text/plain": [
       "0"
      ]
     },
     "execution_count": 18,
     "metadata": {},
     "output_type": "execute_result"
    }
   ],
   "source": [
    "%matplotlib widget\n",
    "fig, ax = plt.subplots(figsize=(6,6),facecolor=\"lightgrey\")\n",
    "fig.tight_layout()\n",
    "plt.subplots_adjust(left=0.1,bottom=0.4)\n",
    "draw(ax,fig,data_df,data_types_using,data_info[data_types_using],regions,region_colors)\n",
    "\n",
    "#add region checkbox\n",
    "axRegion = plt.axes([0.5, 0.05, 0.45, 0.15],facecolor=\"white\")\n",
    "axRegion.text(0.5,1.1,\"Region\",ha=\"center\")\n",
    "Region_checkbox=CheckButtons(axRegion, regions, len(regions)*[True])\n",
    "\n",
    "def change_region(label):\n",
    "    global regions\n",
    "    \n",
    "    if label in regions:\n",
    "        regions.remove(label)\n",
    "    else:\n",
    "        regions.append(label)\n",
    "    regions=sorted(regions)\n",
    "    draw(ax,fig,data_df,data_types_using,\n",
    "         data_info[data_types_using],regions,region_colors)\n",
    "        \n",
    "Region_checkbox.on_clicked(change_region)\n",
    "\n",
    "#add data type radio button\n",
    "axData = plt.axes([0.05, 0.05, 0.4, 0.3],facecolor=\"white\")\n",
    "Data_radiobox=RadioButtons(axData, data_info.keys())\n",
    "\n",
    "def change_data_type(label):\n",
    "    global data_types_using\n",
    "    data_types_using=label\n",
    "    draw(ax,fig,data_df,data_types_using,\n",
    "         data_info[data_types_using],regions,region_colors)\n",
    "Data_radiobox.on_clicked(change_data_type)\n",
    "#Data_radiobox.set_active(2)\n",
    "# #add percentage radio button\n",
    "# axData = plt.axes([0.55, 0.25, 0.4, 0.1],facecolor=\"white\")\n",
    "# Data_radiobox=RadioButtons(axData, [\"As is\"])\n"
   ]
  },
  {
   "cell_type": "code",
   "execution_count": null,
   "id": "3eacfdf9",
   "metadata": {
    "jupyter": {
     "source_hidden": true
    }
   },
   "outputs": [],
   "source": []
  },
  {
   "cell_type": "markdown",
   "id": "f30cd4d1",
   "metadata": {},
   "source": [
    "Data provided by Redfin, a national real estate brokerage."
   ]
  }
 ],
 "metadata": {
  "kernelspec": {
   "display_name": "Python 3",
   "language": "python",
   "name": "python3"
  },
  "language_info": {
   "codemirror_mode": {
    "name": "ipython",
    "version": 3
   },
   "file_extension": ".py",
   "mimetype": "text/x-python",
   "name": "python",
   "nbconvert_exporter": "python",
   "pygments_lexer": "ipython3",
   "version": "3.8.8"
  }
 },
 "nbformat": 4,
 "nbformat_minor": 5
}
